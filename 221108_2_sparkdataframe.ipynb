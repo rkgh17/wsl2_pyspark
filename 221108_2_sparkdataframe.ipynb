{
 "cells": [
  {
   "cell_type": "markdown",
   "id": "9355330f",
   "metadata": {},
   "source": [
    "## 라이브러리 불러오기\n",
    "- spark 세션 활성화"
   ]
  },
  {
   "cell_type": "code",
   "execution_count": 1,
   "id": "f2fa7f3e",
   "metadata": {},
   "outputs": [
    {
     "data": {
      "text/html": [
       "\n",
       "            <div>\n",
       "                <p><b>SparkSession - hive</b></p>\n",
       "                \n",
       "        <div>\n",
       "            <p><b>SparkContext</b></p>\n",
       "\n",
       "            <p><a href=\"http://172.22.119.205:4042\">Spark UI</a></p>\n",
       "\n",
       "            <dl>\n",
       "              <dt>Version</dt>\n",
       "                <dd><code>v3.2.0</code></dd>\n",
       "              <dt>Master</dt>\n",
       "                <dd><code>local[*]</code></dd>\n",
       "              <dt>AppName</dt>\n",
       "                <dd><code>PySparkShell</code></dd>\n",
       "            </dl>\n",
       "        </div>\n",
       "        \n",
       "            </div>\n",
       "        "
      ],
      "text/plain": [
       "<pyspark.sql.session.SparkSession at 0x7f89ebe22e20>"
      ]
     },
     "execution_count": 1,
     "metadata": {},
     "output_type": "execute_result"
    }
   ],
   "source": [
    "from pyspark.sql import SparkSession\n",
    "\n",
    "# 스파크 세션 활성화\n",
    "spark = SparkSession.builder.master('local[2]').appName('DF').getOrCreate()\n",
    "spark"
   ]
  },
  {
   "cell_type": "markdown",
   "id": "62148eb2",
   "metadata": {},
   "source": [
    "## 데이터 프레임 생성\n",
    "- pairRDD 형태를 spark DataFrame으로 생성\n",
    "- spark DataFrame 과 pandas DataFrame은 다름\n",
    "- https://spark.apache.org/docs/3.2.0/api/python/getting_started/quickstart_df.html\n"
   ]
  },
  {
   "cell_type": "code",
   "execution_count": 4,
   "id": "d9963ad8",
   "metadata": {},
   "outputs": [
    {
     "name": "stdout",
     "output_type": "stream",
     "text": [
      "DataFrame[Name: string, Age: bigint]\n",
      "<class 'pyspark.sql.dataframe.DataFrame'>\n"
     ]
    }
   ],
   "source": [
    "pairRDD = [('김길동', 25), ('홍길동', 30),\n",
    "           ('John', 20), ('Jim', 30)]\n",
    "\n",
    "# 데이터프레임 변환\n",
    "temp_df = spark.createDataFrame(pairRDD,\n",
    "                                schema = ['Name', 'Age'])\n",
    "print(temp_df)\n",
    "print(type(temp_df))"
   ]
  },
  {
   "cell_type": "code",
   "execution_count": 5,
   "id": "4d422c79",
   "metadata": {},
   "outputs": [
    {
     "name": "stdout",
     "output_type": "stream",
     "text": [
      "DataFrame[Name: string, Age: bigint]\n",
      "<class 'pyspark.sql.dataframe.DataFrame'>\n"
     ]
    }
   ],
   "source": [
    "# 방법2\n",
    "col_names = ['Name', 'Age']\n",
    "temp_df2 = spark.createDataFrame(pairRDD,\n",
    "                                 schema = col_names)\n",
    "print(temp_df2)\n",
    "print(type(temp_df2))"
   ]
  },
  {
   "cell_type": "code",
   "execution_count": 6,
   "id": "3c697b35",
   "metadata": {},
   "outputs": [
    {
     "name": "stderr",
     "output_type": "stream",
     "text": [
      "                                                                                \r"
     ]
    },
    {
     "name": "stdout",
     "output_type": "stream",
     "text": [
      "+------+---+\n",
      "|  Name|Age|\n",
      "+------+---+\n",
      "|김길동| 25|\n",
      "|홍길동| 30|\n",
      "|  John| 20|\n",
      "|   Jim| 30|\n",
      "+------+---+\n",
      "\n"
     ]
    }
   ],
   "source": [
    "temp_df2.show()"
   ]
  },
  {
   "cell_type": "markdown",
   "id": "9511a040",
   "metadata": {},
   "source": [
    "## 데이터 불러오기\n",
    "- 외부 csv파일 불러오기"
   ]
  },
  {
   "cell_type": "code",
   "execution_count": 8,
   "id": "297b6630",
   "metadata": {
    "scrolled": false
   },
   "outputs": [
    {
     "name": "stdout",
     "output_type": "stream",
     "text": [
      "+---+---------+--------------+------+-------------+\n",
      "|_c0|person_id|          name|   sex|date of birth|\n",
      "+---+---------+--------------+------+-------------+\n",
      "|  0|      100|Penelope Lewis|female|   1990-08-31|\n",
      "|  1|      101| David Anthony|  male|   1971-10-14|\n",
      "|  2|      102|     Ida Shipp|female|   1962-05-24|\n",
      "|  3|      103|  Joanna Moore|female|   2017-03-10|\n",
      "|  4|      104|Lisandra Ortiz|female|   2020-08-05|\n",
      "+---+---------+--------------+------+-------------+\n",
      "only showing top 5 rows\n",
      "\n"
     ]
    },
    {
     "name": "stderr",
     "output_type": "stream",
     "text": [
      "22/11/08 14:11:53 WARN CSVHeaderChecker: CSV header does not conform to the schema.\n",
      " Header: , person_id, name, sex, date of birth\n",
      " Schema: _c0, person_id, name, sex, date of birth\n",
      "Expected: _c0 but found: \n",
      "CSV file: file:///home/jh/wsl2_pyspark/data/people.csv\n"
     ]
    }
   ],
   "source": [
    "DATA_PATH = 'data/people.csv'\n",
    "\n",
    "# 스파크 데이터프레임 생성\n",
    "# header 그대로 쓰냐 / inferSchema : 데이터 타임 알아서 판단하기\n",
    "ppl_df = spark.read.csv(DATA_PATH,\n",
    "                        header=True,\n",
    "                        inferSchema=True)\n",
    "ppl_df.show(5)"
   ]
  },
  {
   "cell_type": "code",
   "execution_count": null,
   "id": "d8f76694",
   "metadata": {},
   "outputs": [],
   "source": []
  },
  {
   "cell_type": "markdown",
   "id": "e536a082",
   "metadata": {},
   "source": [
    "- 행의 개수 파악"
   ]
  },
  {
   "cell_type": "code",
   "execution_count": 9,
   "id": "6432a537",
   "metadata": {},
   "outputs": [
    {
     "data": {
      "text/plain": [
       "100000"
      ]
     },
     "execution_count": 9,
     "metadata": {},
     "output_type": "execute_result"
    }
   ],
   "source": [
    "ppl_df.count()"
   ]
  },
  {
   "cell_type": "markdown",
   "id": "f2efbbf5",
   "metadata": {},
   "source": [
    "- 컬럼 개수 및 컬럼명 추출"
   ]
  },
  {
   "cell_type": "code",
   "execution_count": 11,
   "id": "07d47aa0",
   "metadata": {},
   "outputs": [
    {
     "name": "stdout",
     "output_type": "stream",
     "text": [
      "5\n",
      "['_c0', 'person_id', 'name', 'sex', 'date of birth']\n"
     ]
    }
   ],
   "source": [
    "print(len(ppl_df.columns))\n",
    "print(ppl_df.columns)"
   ]
  },
  {
   "cell_type": "markdown",
   "id": "40f2e2a2",
   "metadata": {},
   "source": [
    "## 데이터 핸들링\n",
    "- 특정 컬럼 추출"
   ]
  },
  {
   "cell_type": "code",
   "execution_count": 18,
   "id": "4b7dd26b",
   "metadata": {},
   "outputs": [
    {
     "name": "stdout",
     "output_type": "stream",
     "text": [
      "+--------------+------+-------------+\n",
      "|          name|   sex|date of birth|\n",
      "+--------------+------+-------------+\n",
      "|Penelope Lewis|female|   1990-08-31|\n",
      "| David Anthony|  male|   1971-10-14|\n",
      "|     Ida Shipp|female|   1962-05-24|\n",
      "|  Joanna Moore|female|   2017-03-10|\n",
      "|Lisandra Ortiz|female|   2020-08-05|\n",
      "+--------------+------+-------------+\n",
      "only showing top 5 rows\n",
      "\n"
     ]
    }
   ],
   "source": [
    "ppl_df_2 = ppl_df.select('name', 'sex','date of birth')\n",
    "ppl_df_2.show(5)"
   ]
  },
  {
   "cell_type": "markdown",
   "id": "20ba740b",
   "metadata": {},
   "source": [
    "- 중복값 제거"
   ]
  },
  {
   "cell_type": "code",
   "execution_count": 20,
   "id": "f20bb2fb",
   "metadata": {},
   "outputs": [
    {
     "data": {
      "text/plain": [
       "100000"
      ]
     },
     "execution_count": 20,
     "metadata": {},
     "output_type": "execute_result"
    }
   ],
   "source": [
    "ppl_df_2.count()"
   ]
  },
  {
   "cell_type": "code",
   "execution_count": 22,
   "id": "68519cb6",
   "metadata": {},
   "outputs": [
    {
     "data": {
      "text/plain": [
       "99998"
      ]
     },
     "execution_count": 22,
     "metadata": {},
     "output_type": "execute_result"
    }
   ],
   "source": [
    "ppl_df_3 = ppl_df_2.dropDuplicates()\n",
    "ppl_df_3.count()"
   ]
  },
  {
   "cell_type": "markdown",
   "id": "383d0686",
   "metadata": {},
   "source": [
    "- 행 추출(filter)"
   ]
  },
  {
   "cell_type": "code",
   "execution_count": 25,
   "id": "670975df",
   "metadata": {},
   "outputs": [
    {
     "data": {
      "text/plain": [
       "(49065, 49013)"
      ]
     },
     "execution_count": 25,
     "metadata": {},
     "output_type": "execute_result"
    }
   ],
   "source": [
    "# 성별로 구분\n",
    "male_df = ppl_df_3.filter(ppl_df_3.sex == 'male')\n",
    "female_df = ppl_df_3.filter(ppl_df_3.sex == 'female')\n",
    "\n",
    "male_df.count(), female_df.count()"
   ]
  },
  {
   "cell_type": "markdown",
   "id": "1614b101",
   "metadata": {},
   "source": [
    "## Spark SQL\n",
    "- 임시 테이블을 생성"
   ]
  },
  {
   "cell_type": "code",
   "execution_count": 26,
   "id": "88380c3c",
   "metadata": {},
   "outputs": [],
   "source": [
    "# Spark 세션에 people테이블로 저장\n",
    "ppl_df_3.createOrReplaceTempView('people')"
   ]
  },
  {
   "cell_type": "code",
   "execution_count": 27,
   "id": "ebb031c5",
   "metadata": {},
   "outputs": [
    {
     "name": "stdout",
     "output_type": "stream",
     "text": [
      "+-----------------+\n",
      "|             name|\n",
      "+-----------------+\n",
      "|      Robert Fort|\n",
      "|    Robert Wright|\n",
      "|     Ollie Watson|\n",
      "|      Todd Noland|\n",
      "| Brandon Lawrence|\n",
      "|     Bobbie Clark|\n",
      "|    Clifton Negri|\n",
      "|        Dina Katz|\n",
      "|Lillian Whitfield|\n",
      "|    Manuel Castro|\n",
      "+-----------------+\n",
      "only showing top 10 rows\n",
      "\n"
     ]
    }
   ],
   "source": [
    "# 쿼리 생성\n",
    "query = '''\n",
    "    SELECT name FROM people\n",
    "'''\n",
    "\n",
    "# 쿼리를 Spark 세션에 던짐\n",
    "sql_names = spark.sql(query)\n",
    "\n",
    "sql_names.show(10)"
   ]
  },
  {
   "cell_type": "code",
   "execution_count": 33,
   "id": "f19396a5",
   "metadata": {},
   "outputs": [
    {
     "name": "stdout",
     "output_type": "stream",
     "text": [
      "+-------------------+----+-------------+\n",
      "|               name| sex|date of birth|\n",
      "+-------------------+----+-------------+\n",
      "|        Robert Fort|male|   1975-02-15|\n",
      "|      Robert Wright|male|   1974-10-11|\n",
      "|        Todd Noland|male|   2010-11-30|\n",
      "|   Brandon Lawrence|male|   1972-09-15|\n",
      "|      Clifton Negri|male|   1971-10-28|\n",
      "|      Manuel Castro|male|   2000-01-09|\n",
      "|    Bradley Aguilar|male|   1950-01-01|\n",
      "|Christopher Mchaney|male|  20175-02-28|\n",
      "|      David Maenpaa|male|   1975-02-05|\n",
      "|    Justin Franklin|male|   2017-03-11|\n",
      "+-------------------+----+-------------+\n",
      "only showing top 10 rows\n",
      "\n"
     ]
    }
   ],
   "source": [
    "query = '''\n",
    "    SELECT * FROM people WHERE sex == \"male\"\n",
    "'''\n",
    "sql_male_df = spark.sql(query)\n",
    "sql_male_df.show(10)"
   ]
  },
  {
   "cell_type": "code",
   "execution_count": 34,
   "id": "a26ac53c",
   "metadata": {},
   "outputs": [
    {
     "data": {
      "text/plain": [
       "(49065, 49065)"
      ]
     },
     "execution_count": 34,
     "metadata": {},
     "output_type": "execute_result"
    }
   ],
   "source": [
    "sql_male_df.count(), male_df.count()"
   ]
  },
  {
   "cell_type": "markdown",
   "id": "8a961c96",
   "metadata": {},
   "source": [
    "## 업그레이드 Spark DF"
   ]
  },
  {
   "cell_type": "code",
   "execution_count": 36,
   "id": "7b5cd8cd",
   "metadata": {},
   "outputs": [
    {
     "data": {
      "text/plain": [
       "5000"
      ]
     },
     "execution_count": 36,
     "metadata": {},
     "output_type": "execute_result"
    }
   ],
   "source": [
    "DATA_PATH = 'data/Real_Estate.csv'\n",
    "\n",
    "# 스파크 데이터프레임 생성\n",
    "real_estate = spark.read.csv(DATA_PATH,\n",
    "                        header=True,\n",
    "                        inferSchema=True)\n",
    "#real_estate.show(5)\n",
    "real_estate.count()"
   ]
  },
  {
   "cell_type": "code",
   "execution_count": 37,
   "id": "38e1ac17",
   "metadata": {},
   "outputs": [
    {
     "data": {
      "text/plain": [
       "74"
      ]
     },
     "execution_count": 37,
     "metadata": {},
     "output_type": "execute_result"
    }
   ],
   "source": [
    "len(real_estate.columns)"
   ]
  },
  {
   "cell_type": "markdown",
   "id": "5015d5ef",
   "metadata": {},
   "source": [
    "- real_estate 컬럼 값 출력"
   ]
  },
  {
   "cell_type": "code",
   "execution_count": 39,
   "id": "5de598a4",
   "metadata": {},
   "outputs": [
    {
     "name": "stdout",
     "output_type": "stream",
     "text": [
      "['No.', 'MLSID', 'StreetNumberNumeric', 'streetaddress', 'STREETNAME', 'PostalCode', 'StateOrProvince', 'City', 'SalesClosePrice', 'LISTDATE', 'LISTPRICE', 'LISTTYPE', 'OriginalListPrice', 'PricePerTSFT', 'FOUNDATIONSIZE', 'FENCE', 'MapLetter', 'LotSizeDimensions', 'SchoolDistrictNumber', 'DAYSONMARKET', 'offmarketdate', 'Fireplaces', 'RoomArea4', 'roomtype', 'ROOF', 'RoomFloor4', 'PotentialShortSale', 'PoolDescription', 'PDOM', 'GarageDescription', 'SQFTABOVEGROUND', 'Taxes', 'RoomFloor1', 'RoomArea1', 'TAXWITHASSESSMENTS', 'TAXYEAR', 'LivingArea', 'UNITNUMBER', 'YEARBUILT', 'ZONING', 'STYLE', 'ACRES', 'CoolingDescription', 'APPLIANCES', 'backonmarketdate', 'ROOMFAMILYCHAR', 'RoomArea3', 'EXTERIOR', 'RoomFloor3', 'RoomFloor2', 'RoomArea2', 'DiningRoomDescription', 'BASEMENT', 'BathsFull', 'BathsHalf', 'BATHQUARTER', 'BATHSTHREEQUARTER', 'Class', 'BATHSTOTAL', 'BATHDESC', 'RoomArea5', 'RoomFloor5', 'RoomArea6', 'RoomFloor6', 'RoomArea7', 'RoomFloor7', 'RoomArea8', 'RoomFloor8', 'Bedrooms', 'SQFTBELOWGROUND', 'AssumableMortgage', 'AssociationFee', 'ASSESSMENTPENDING', 'AssessedValuation']\n"
     ]
    }
   ],
   "source": [
    "print(real_estate.columns)"
   ]
  },
  {
   "cell_type": "code",
   "execution_count": 41,
   "id": "71e9bca3",
   "metadata": {},
   "outputs": [
    {
     "name": "stdout",
     "output_type": "stream",
     "text": [
      "+---------------+\n",
      "|SalesClosePrice|\n",
      "+---------------+\n",
      "|         143000|\n",
      "|         190000|\n",
      "|         225000|\n",
      "|         265000|\n",
      "|         249900|\n",
      "+---------------+\n",
      "only showing top 5 rows\n",
      "\n"
     ]
    }
   ],
   "source": [
    "y_df = real_estate.select(['SalesClosePrice'])\n",
    "y_df.show(5)"
   ]
  },
  {
   "cell_type": "markdown",
   "id": "683dc375",
   "metadata": {},
   "source": [
    "- 요약통계\n",
    "- 기술통계량"
   ]
  },
  {
   "cell_type": "code",
   "execution_count": 42,
   "id": "de35d586",
   "metadata": {},
   "outputs": [
    {
     "name": "stdout",
     "output_type": "stream",
     "text": [
      "+-------+------------------+\n",
      "|summary|   SalesClosePrice|\n",
      "+-------+------------------+\n",
      "|  count|              5000|\n",
      "|   mean|       262804.4668|\n",
      "| stddev|140559.82591998563|\n",
      "|    min|             48000|\n",
      "|    max|           1700000|\n",
      "+-------+------------------+\n",
      "\n"
     ]
    }
   ],
   "source": [
    "y_df.describe().show()"
   ]
  },
  {
   "cell_type": "markdown",
   "id": "04f4ae22",
   "metadata": {},
   "source": [
    "- 데이터타입 출력"
   ]
  },
  {
   "cell_type": "code",
   "execution_count": 46,
   "id": "97cc332a",
   "metadata": {},
   "outputs": [
    {
     "name": "stdout",
     "output_type": "stream",
     "text": [
      "('No.', 'int')\n",
      "('MLSID', 'string')\n",
      "('StreetNumberNumeric', 'int')\n",
      "('streetaddress', 'string')\n",
      "('STREETNAME', 'string')\n",
      "('PostalCode', 'int')\n",
      "('StateOrProvince', 'string')\n",
      "('City', 'string')\n",
      "('SalesClosePrice', 'int')\n",
      "('LISTDATE', 'string')\n",
      "('LISTPRICE', 'int')\n",
      "('LISTTYPE', 'string')\n",
      "('OriginalListPrice', 'int')\n",
      "('PricePerTSFT', 'double')\n",
      "('FOUNDATIONSIZE', 'int')\n",
      "('FENCE', 'string')\n",
      "('MapLetter', 'string')\n",
      "('LotSizeDimensions', 'string')\n",
      "('SchoolDistrictNumber', 'string')\n",
      "('DAYSONMARKET', 'int')\n",
      "('offmarketdate', 'string')\n",
      "('Fireplaces', 'int')\n",
      "('RoomArea4', 'string')\n",
      "('roomtype', 'string')\n",
      "('ROOF', 'string')\n",
      "('RoomFloor4', 'string')\n",
      "('PotentialShortSale', 'string')\n",
      "('PoolDescription', 'string')\n",
      "('PDOM', 'int')\n",
      "('GarageDescription', 'string')\n",
      "('SQFTABOVEGROUND', 'int')\n",
      "('Taxes', 'int')\n",
      "('RoomFloor1', 'string')\n",
      "('RoomArea1', 'string')\n",
      "('TAXWITHASSESSMENTS', 'double')\n",
      "('TAXYEAR', 'int')\n",
      "('LivingArea', 'int')\n",
      "('UNITNUMBER', 'string')\n",
      "('YEARBUILT', 'int')\n",
      "('ZONING', 'string')\n",
      "('STYLE', 'string')\n",
      "('ACRES', 'double')\n",
      "('CoolingDescription', 'string')\n",
      "('APPLIANCES', 'string')\n",
      "('backonmarketdate', 'string')\n",
      "('ROOMFAMILYCHAR', 'string')\n",
      "('RoomArea3', 'string')\n",
      "('EXTERIOR', 'string')\n",
      "('RoomFloor3', 'string')\n",
      "('RoomFloor2', 'string')\n",
      "('RoomArea2', 'string')\n",
      "('DiningRoomDescription', 'string')\n",
      "('BASEMENT', 'string')\n",
      "('BathsFull', 'int')\n",
      "('BathsHalf', 'int')\n",
      "('BATHQUARTER', 'int')\n",
      "('BATHSTHREEQUARTER', 'int')\n",
      "('Class', 'string')\n",
      "('BATHSTOTAL', 'int')\n",
      "('BATHDESC', 'string')\n",
      "('RoomArea5', 'string')\n",
      "('RoomFloor5', 'string')\n",
      "('RoomArea6', 'string')\n",
      "('RoomFloor6', 'string')\n",
      "('RoomArea7', 'string')\n",
      "('RoomFloor7', 'string')\n",
      "('RoomArea8', 'string')\n",
      "('RoomFloor8', 'string')\n",
      "('Bedrooms', 'int')\n",
      "('SQFTBELOWGROUND', 'int')\n",
      "('AssumableMortgage', 'string')\n",
      "('AssociationFee', 'int')\n",
      "('ASSESSMENTPENDING', 'string')\n",
      "('AssessedValuation', 'double')\n"
     ]
    }
   ],
   "source": [
    "df_type_lists = real_estate.dtypes\n",
    "\n",
    "for item in df_type_lists:\n",
    "    print(item)\n",
    "# print(df_type_lists)"
   ]
  },
  {
   "cell_type": "code",
   "execution_count": 54,
   "id": "a41d0d37",
   "metadata": {},
   "outputs": [
    {
     "name": "stdout",
     "output_type": "stream",
     "text": [
      "ZONING: 데이터 타입 일치\n",
      "RoomArea6: 데이터 타입 일치\n",
      "AssociationFee: 데이터 타입 일치\n",
      "AssessedValuation: 데이터 타입 불일치\n",
      "double\n"
     ]
    }
   ],
   "source": [
    "# 테이블 정의서에 기록되어있는 데이터 타입\n",
    "\n",
    "validation_dict = {\n",
    "    'AssociationFee' : 'int',\n",
    "    'ZONING' : 'string',\n",
    "    'RoomArea6' : 'string',\n",
    "    'AssessedValuation' : 'string'\n",
    "}\n",
    "\n",
    "for df_type in df_type_lists:\n",
    "    # 데이터 타입을 검증\n",
    "    column_name = df_type[0]\n",
    "    \n",
    "    # 매칭\n",
    "    if column_name in  validation_dict:\n",
    "        # print(column_name)\n",
    "        \n",
    "        # 비교\n",
    "        column_type = df_type[1]\n",
    "        if column_type == validation_dict[column_name]:\n",
    "            print(column_name + \": 데이터 타입 일치\")\n",
    "        else:\n",
    "            print(column_name + \": 데이터 타입 불일치\")\n",
    "            print(column_type)"
   ]
  },
  {
   "cell_type": "code",
   "execution_count": 55,
   "id": "24b7144a",
   "metadata": {},
   "outputs": [
    {
     "name": "stdout",
     "output_type": "stream",
     "text": [
      "FOUNDATIONSIZE 0.6152231695664402\n",
      "DAYSONMARKET 0.10140339667725148\n",
      "Fireplaces 0.5750292168651635\n",
      "PDOM 0.06577733329086234\n",
      "SQFTABOVEGROUND 0.7901878498502957\n",
      "Taxes 0.04330623090283576\n",
      "----------\n",
      "SQFTABOVEGROUND 0.7901878498502957\n"
     ]
    }
   ],
   "source": [
    "col_names = ['FOUNDATIONSIZE', 'DAYSONMARKET', 'Fireplaces', 'PDOM', 'SQFTABOVEGROUND', 'Taxes']\n",
    "\n",
    "# 상관관계 최대갓 정의\n",
    "corr_max = 0\n",
    "corr_max_col = col_names[0]\n",
    "\n",
    "# 상관관계 구하기\n",
    "for col in col_names:\n",
    "    \n",
    "    # 종속변수 기준으로 상관관계가 가장 큰 변수 구하기\n",
    "    # 스파크 데이터프레임\n",
    "    # 데이터 엔지니어 (실시간 데이터 처리)\n",
    "    corr_val = real_estate.corr('SalesClosePrice', col)\n",
    "    print(col, corr_val)\n",
    "    \n",
    "    if corr_val > corr_max:\n",
    "        \n",
    "        corr_max = corr_val\n",
    "        corr_max_col = col\n",
    "\n",
    "print(\"-----\" * 2)\n",
    "print(corr_max_col, corr_max)"
   ]
  },
  {
   "cell_type": "markdown",
   "id": "5c244a8e",
   "metadata": {},
   "source": [
    "## Pandas 데이터 프레임으로 변환"
   ]
  },
  {
   "cell_type": "code",
   "execution_count": 63,
   "id": "43e9bfad",
   "metadata": {},
   "outputs": [
    {
     "name": "stdout",
     "output_type": "stream",
     "text": [
      "+---------------+\n",
      "|SalesClosePrice|\n",
      "+---------------+\n",
      "|         265000|\n",
      "|         245000|\n",
      "|         254500|\n",
      "|         257500|\n",
      "|         274990|\n",
      "+---------------+\n",
      "only showing top 5 rows\n",
      "\n",
      "None\n",
      "2552\n"
     ]
    }
   ],
   "source": [
    "import pandas as pd\n",
    "import seaborn as sns\n",
    "import matplotlib.pyplot as plt\n",
    "\n",
    "# 분포\n",
    "sample_df = real_estate.select(['SalesClosePrice']).sample(False,\n",
    "                                                           0.5,\n",
    "                                                           42)\n",
    "print(sample_df.show(5))\n",
    "print(sample_df.count())"
   ]
  },
  {
   "cell_type": "code",
   "execution_count": 64,
   "id": "197be906",
   "metadata": {},
   "outputs": [
    {
     "name": "stdout",
     "output_type": "stream",
     "text": [
      "   SalesClosePrice\n",
      "0           265000\n",
      "1           245000\n",
      "2           254500\n",
      "3           257500\n",
      "4           274990\n"
     ]
    }
   ],
   "source": [
    "pandas_df = sample_df.toPandas()\n",
    "print(pandas_df.head())"
   ]
  },
  {
   "cell_type": "code",
   "execution_count": 60,
   "id": "6ce8b360",
   "metadata": {},
   "outputs": [
    {
     "data": {
      "image/png": "[encoded data removed]",
      "text/plain": [
       "<Figure size 658.5x500 with 1 Axes>"
      ]
     },
     "metadata": {},
     "output_type": "display_data"
    }
   ],
   "source": [
    "# 그래프 작성\n",
    "sns.displot(pandas_df)\n",
    "plt.show()"
   ]
  },
  {
   "cell_type": "code",
   "execution_count": 65,
   "id": "7846c1a8",
   "metadata": {},
   "outputs": [
    {
     "data": {
      "image/png": "[encoded data removed]",
      "text/plain": [
       "<Figure size 500x500 with 1 Axes>"
      ]
     },
     "metadata": {},
     "output_type": "display_data"
    }
   ],
   "source": [
    "# 회귀 그래프 작성\n",
    "sample_df = real_estate.select(['SalesClosePrice',\n",
    "                                'LIVINGAREA']).sample(False,\n",
    "                                                      0.5,\n",
    "                                                      42)\n",
    "\n",
    "# Convert to pandas dataframe\n",
    "pandas_df = sample_df.toPandas()\n",
    "\n",
    "# 선형회귀 모델\n",
    "sns.lmplot(x='LIVINGAREA',\n",
    "           y='SalesClosePrice',\n",
    "           data=pandas_df)\n",
    "plt.show()"
   ]
  },
  {
   "cell_type": "markdown",
   "id": "6bd072eb",
   "metadata": {},
   "source": [
    "ETL\n",
    "Extract\n",
    "Transformation\n",
    "Load"
   ]
  },
  {
   "cell_type": "code",
   "execution_count": null,
   "id": "20975a6c",
   "metadata": {},
   "outputs": [],
   "source": []
  },
  {
   "cell_type": "code",
   "execution_count": null,
   "id": "e7814fb7",
   "metadata": {},
   "outputs": [],
   "source": []
  },
  {
   "cell_type": "code",
   "execution_count": null,
   "id": "22f5e18c",
   "metadata": {},
   "outputs": [],
   "source": []
  },
  {
   "cell_type": "code",
   "execution_count": null,
   "id": "bf4aa5eb",
   "metadata": {},
   "outputs": [],
   "source": []
  },
  {
   "cell_type": "code",
   "execution_count": null,
   "id": "f69f5f45",
   "metadata": {},
   "outputs": [],
   "source": []
  },
  {
   "cell_type": "code",
   "execution_count": null,
   "id": "db518386",
   "metadata": {},
   "outputs": [],
   "source": []
  },
  {
   "cell_type": "code",
   "execution_count": null,
   "id": "fe4fc174",
   "metadata": {},
   "outputs": [],
   "source": []
  }
 ],
 "metadata": {
  "kernelspec": {
   "display_name": "Python 3 (ipykernel)",
   "language": "python",
   "name": "python3"
  },
  "language_info": {
   "codemirror_mode": {
    "name": "ipython",
    "version": 3
   },
   "file_extension": ".py",
   "mimetype": "text/x-python",
   "name": "python",
   "nbconvert_exporter": "python",
   "pygments_lexer": "ipython3",
   "version": "3.8.0"
  }
 },
 "nbformat": 4,
 "nbformat_minor": 5
}
