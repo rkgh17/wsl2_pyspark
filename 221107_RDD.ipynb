{
 "cells": [
  {
   "cell_type": "markdown",
   "id": "5537e2ad",
   "metadata": {},
   "source": [
    "## 라이브러리 불러오기\n",
    "- 버전 확인하기"
   ]
  },
  {
   "cell_type": "code",
   "execution_count": 1,
   "id": "88ff87ae",
   "metadata": {},
   "outputs": [
    {
     "name": "stdout",
     "output_type": "stream",
     "text": [
      "3.2.0\n",
      "1.23.4\n",
      "1.5.1\n",
      "3.6.2\n",
      "0.12.1\n"
     ]
    }
   ],
   "source": [
    "import pyspark\n",
    "import numpy as np\n",
    "import pandas as pd\n",
    "import matplotlib as mpl\n",
    "import seaborn as sns\n",
    "\n",
    "print(pyspark.__version__)\n",
    "print(np.__version__)\n",
    "print(pd.__version__)\n",
    "print(mpl.__version__)\n",
    "print(sns.__version__)\n"
   ]
  },
  {
   "cell_type": "markdown",
   "id": "69dc7682",
   "metadata": {},
   "source": [
    "## 환경설정 필요\n",
    "- https://spark.apache.org/docs/latest/configuration.html\n",
    "- 배워야 할 내용, 네트워크 구성부터 시작, 서버 설정 등등"
   ]
  },
  {
   "cell_type": "code",
   "execution_count": 2,
   "id": "79e7da11",
   "metadata": {},
   "outputs": [
    {
     "data": {
      "text/html": [
       "\n",
       "        <div>\n",
       "            <p><b>SparkContext</b></p>\n",
       "\n",
       "            <p><a href=\"http://172.22.119.205:4040\">Spark UI</a></p>\n",
       "\n",
       "            <dl>\n",
       "              <dt>Version</dt>\n",
       "                <dd><code>v3.2.0</code></dd>\n",
       "              <dt>Master</dt>\n",
       "                <dd><code>local[*]</code></dd>\n",
       "              <dt>AppName</dt>\n",
       "                <dd><code>PySparkShell</code></dd>\n",
       "            </dl>\n",
       "        </div>\n",
       "        "
      ],
      "text/plain": [
       "<SparkContext master=local[*] appName=PySparkShell>"
      ]
     },
     "execution_count": 2,
     "metadata": {},
     "output_type": "execute_result"
    }
   ],
   "source": [
    "sc"
   ]
  },
  {
   "cell_type": "markdown",
   "id": "97530d13",
   "metadata": {},
   "source": [
    "## 현재 Spark 사용자 이름 확인 "
   ]
  },
  {
   "cell_type": "code",
   "execution_count": 3,
   "id": "32a947f6",
   "metadata": {
    "scrolled": true
   },
   "outputs": [
    {
     "data": {
      "text/plain": [
       "'jh'"
      ]
     },
     "execution_count": 3,
     "metadata": {},
     "output_type": "execute_result"
    }
   ],
   "source": [
    "import getpass\n",
    "username = getpass.getuser()\n",
    "username"
   ]
  },
  {
   "cell_type": "markdown",
   "id": "80c68112",
   "metadata": {},
   "source": [
    "## SparkSession\n",
    "- 클러스터에 진입하기 위한 것"
   ]
  },
  {
   "cell_type": "code",
   "execution_count": 4,
   "id": "16a58029",
   "metadata": {},
   "outputs": [
    {
     "name": "stdout",
     "output_type": "stream",
     "text": [
      "spark version : 3.2.0\n"
     ]
    }
   ],
   "source": [
    "print(\"spark version :\", sc.version)"
   ]
  },
  {
   "cell_type": "code",
   "execution_count": 5,
   "id": "7ac6bfc8",
   "metadata": {},
   "outputs": [
    {
     "name": "stdout",
     "output_type": "stream",
     "text": [
      "python version : 3.8\n"
     ]
    }
   ],
   "source": [
    "print(\"python version :\", sc.pythonVer)"
   ]
  },
  {
   "cell_type": "code",
   "execution_count": 6,
   "id": "81bdfd86",
   "metadata": {},
   "outputs": [
    {
     "name": "stdout",
     "output_type": "stream",
     "text": [
      "Spark Master Name : local[*]\n"
     ]
    }
   ],
   "source": [
    "print(\"Spark Master Name :\", sc.master)"
   ]
  },
  {
   "cell_type": "markdown",
   "id": "68c3e9a4",
   "metadata": {},
   "source": [
    "## lambda 함수\n",
    "- 사용자 정의 함수를 1회성으로 쓴다"
   ]
  },
  {
   "cell_type": "code",
   "execution_count": 7,
   "id": "7c81b2da",
   "metadata": {},
   "outputs": [
    {
     "data": {
      "text/plain": [
       "15"
      ]
     },
     "execution_count": 7,
     "metadata": {},
     "output_type": "execute_result"
    }
   ],
   "source": [
    "(lambda x: x+5)(10)"
   ]
  },
  {
   "cell_type": "code",
   "execution_count": 8,
   "id": "9925e5a2",
   "metadata": {},
   "outputs": [
    {
     "data": {
      "text/plain": [
       "[105, 106, 107, 108, 109]"
      ]
     },
     "execution_count": 8,
     "metadata": {},
     "output_type": "execute_result"
    }
   ],
   "source": [
    "list(map(lambda x: x+105, range(5)))"
   ]
  },
  {
   "cell_type": "code",
   "execution_count": 9,
   "id": "61c2bda5",
   "metadata": {},
   "outputs": [],
   "source": [
    "sc.stop()"
   ]
  },
  {
   "cell_type": "markdown",
   "id": "645d9b6a",
   "metadata": {},
   "source": [
    "## RDD\n",
    "- RDD배우기\n",
    "- 새로운 Spark 세션 만들기"
   ]
  },
  {
   "cell_type": "code",
   "execution_count": 10,
   "id": "733b209f",
   "metadata": {},
   "outputs": [
    {
     "data": {
      "text/html": [
       "\n",
       "            <div>\n",
       "                <p><b>SparkSession - hive</b></p>\n",
       "                \n",
       "        <div>\n",
       "            <p><b>SparkContext</b></p>\n",
       "\n",
       "            <p><a href=\"http://172.22.119.205:4040\">Spark UI</a></p>\n",
       "\n",
       "            <dl>\n",
       "              <dt>Version</dt>\n",
       "                <dd><code>v3.2.0</code></dd>\n",
       "              <dt>Master</dt>\n",
       "                <dd><code>local[1]</code></dd>\n",
       "              <dt>AppName</dt>\n",
       "                <dd><code>my1stSpark</code></dd>\n",
       "            </dl>\n",
       "        </div>\n",
       "        \n",
       "            </div>\n",
       "        "
      ],
      "text/plain": [
       "<pyspark.sql.session.SparkSession at 0x7fc3eb7656a0>"
      ]
     },
     "execution_count": 10,
     "metadata": {},
     "output_type": "execute_result"
    }
   ],
   "source": [
    "from pyspark.sql import SparkSession\n",
    "spark = SparkSession.builder.master(\"local[1]\").appName(\"my1stSpark\").getOrCreate()\n",
    "spark"
   ]
  },
  {
   "cell_type": "markdown",
   "id": "cc31a7e0",
   "metadata": {},
   "source": [
    "- RDD 객체를 생성"
   ]
  },
  {
   "cell_type": "markdown",
   "id": "2c03689f",
   "metadata": {},
   "source": [
    "- https://spark.apache.org/docs/3.3.1/rdd-programming-guide.html"
   ]
  },
  {
   "cell_type": "code",
   "execution_count": 11,
   "id": "1856a697",
   "metadata": {},
   "outputs": [
    {
     "name": "stdout",
     "output_type": "stream",
     "text": [
      "<class 'pyspark.rdd.RDD'>\n"
     ]
    }
   ],
   "source": [
    "data = [1,2,3,4,5]\n",
    "rdd = spark.sparkContext.parallelize(data)\n",
    "print(type(rdd))"
   ]
  },
  {
   "cell_type": "code",
   "execution_count": 12,
   "id": "2f707ef1",
   "metadata": {},
   "outputs": [
    {
     "name": "stdout",
     "output_type": "stream",
     "text": [
      "<class 'pyspark.rdd.PipelinedRDD'>\n"
     ]
    }
   ],
   "source": [
    "num_values = range(1,101)\n",
    "rdd = spark.sparkContext.parallelize(num_values)\n",
    "print(type(rdd))"
   ]
  },
  {
   "cell_type": "code",
   "execution_count": 13,
   "id": "04c01388",
   "metadata": {},
   "outputs": [
    {
     "name": "stdout",
     "output_type": "stream",
     "text": [
      "<class 'pyspark.rdd.RDD'>\n"
     ]
    }
   ],
   "source": [
    "np_num_values = np.array([1, 2, 3])\n",
    "rdd = spark.sparkContext.parallelize(np_num_values)\n",
    "print(type(rdd))"
   ]
  },
  {
   "cell_type": "code",
   "execution_count": 14,
   "id": "5cfd4698",
   "metadata": {},
   "outputs": [
    {
     "name": "stdout",
     "output_type": "stream",
     "text": [
      "<class 'pyspark.rdd.RDD'>\n"
     ]
    }
   ],
   "source": [
    "str_values = [\"A\", \"B\", \"C\"]\n",
    "rdd = spark.sparkContext.parallelize(str_values)\n",
    "print(type(rdd))"
   ]
  },
  {
   "cell_type": "code",
   "execution_count": 15,
   "id": "fcbf14b5",
   "metadata": {},
   "outputs": [
    {
     "name": "stdout",
     "output_type": "stream",
     "text": [
      "ParallelCollectionRDD[3] at readRDDFromFile at PythonRDD.scala:274\n"
     ]
    }
   ],
   "source": [
    "print(rdd)"
   ]
  },
  {
   "cell_type": "markdown",
   "id": "30a5cfe4",
   "metadata": {},
   "source": [
    "## 데이터 가져오기\n",
    "- README.md 파일 가져오기"
   ]
  },
  {
   "cell_type": "code",
   "execution_count": 16,
   "id": "ee7fe073",
   "metadata": {},
   "outputs": [
    {
     "name": "stdout",
     "output_type": "stream",
     "text": [
      "The File Type is <class 'pyspark.rdd.RDD'>\n",
      "\n",
      "The File Type is <class 'pyspark.rdd.PipelinedRDD'>\n",
      "\n",
      "PythonRDD[6] at RDD at PythonRDD.scala:53\n"
     ]
    }
   ],
   "source": [
    "file_path = 'data/README.md'\n",
    "fileRDD = spark.sparkContext.textFile(file_path)\n",
    "print(\"The File Type is\", type(fileRDD))\n",
    "print()\n",
    "\n",
    "# Spark Transformation\n",
    "# filter Spark 글자만 출력한다\n",
    "fileRDD_filter = fileRDD.filter(lambda line : 'Spark' in line)\n",
    "print(\"The File Type is\", type(fileRDD_filter))\n",
    "print()\n",
    "print(fileRDD_filter)"
   ]
  },
  {
   "cell_type": "code",
   "execution_count": 17,
   "id": "d16bf1a7",
   "metadata": {},
   "outputs": [
    {
     "name": "stderr",
     "output_type": "stream",
     "text": [
      "\r",
      "[Stage 0:>                                                          (0 + 1) / 1]\r",
      "\r",
      "                                                                                \r"
     ]
    },
    {
     "name": "stdout",
     "output_type": "stream",
     "text": [
      "19\n",
      "\n",
      "# Apache Spark\n",
      "Spark is a unified analytics engine for large-scale data processing. It provides\n",
      "rich set of higher-level tools including Spark SQL for SQL and DataFrames,\n",
      "[![PySpark Coverage](https://codecov.io/gh/apache/spark/branch/master/graph/badge.svg)](https://codecov.io/gh/apache/spark)\n"
     ]
    }
   ],
   "source": [
    "# Spark Action\n",
    "print(fileRDD_filter.count())\n",
    "\n",
    "print()\n",
    "\n",
    "for line in fileRDD_filter.take(4):\n",
    "    print(line)"
   ]
  },
  {
   "cell_type": "code",
   "execution_count": 18,
   "id": "916325d2",
   "metadata": {},
   "outputs": [
    {
     "name": "stdout",
     "output_type": "stream",
     "text": [
      "0\n",
      "1\n",
      "8\n",
      "27\n",
      "64\n",
      "125\n",
      "216\n",
      "343\n",
      "512\n",
      "729\n"
     ]
    }
   ],
   "source": [
    "# RDD 세제곱\n",
    "\n",
    "num_values = range(10)\n",
    "\n",
    "# RDD 생성\n",
    "num_values = spark.sparkContext.parallelize(num_values)\n",
    "\n",
    "# RDD 트랜스포메이션\n",
    "cubic_values = num_values.map(lambda x : pow(x,3))\n",
    "\n",
    "# RDD 액션\n",
    "for num in cubic_values.collect():\n",
    "    print(num)\n",
    "\n"
   ]
  },
  {
   "cell_type": "code",
   "execution_count": 19,
   "id": "0cf84f71",
   "metadata": {},
   "outputs": [
    {
     "name": "stdout",
     "output_type": "stream",
     "text": [
      "PythonRDD[11] at RDD at PythonRDD.scala:53\n"
     ]
    }
   ],
   "source": [
    "print(num_values )"
   ]
  },
  {
   "cell_type": "code",
   "execution_count": null,
   "id": "d1b7af29",
   "metadata": {},
   "outputs": [],
   "source": []
  },
  {
   "cell_type": "code",
   "execution_count": null,
   "id": "751c645d",
   "metadata": {},
   "outputs": [],
   "source": []
  }
 ],
 "metadata": {
  "kernelspec": {
   "display_name": "Python 3 (ipykernel)",
   "language": "python",
   "name": "python3"
  },
  "language_info": {
   "codemirror_mode": {
    "name": "ipython",
    "version": 3
   },
   "file_extension": ".py",
   "mimetype": "text/x-python",
   "name": "python",
   "nbconvert_exporter": "python",
   "pygments_lexer": "ipython3",
   "version": "3.8.0"
  }
 },
 "nbformat": 4,
 "nbformat_minor": 5
}
