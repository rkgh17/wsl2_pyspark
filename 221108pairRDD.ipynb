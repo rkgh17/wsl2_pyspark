{
 "cells": [
  {
   "cell_type": "code",
   "execution_count": 1,
   "id": "3ede5f94",
   "metadata": {},
   "outputs": [
    {
     "data": {
      "text/html": [
       "\n",
       "        <div>\n",
       "            <p><b>SparkContext</b></p>\n",
       "\n",
       "            <p><a href=\"http://172.22.119.205:4041\">Spark UI</a></p>\n",
       "\n",
       "            <dl>\n",
       "              <dt>Version</dt>\n",
       "                <dd><code>v3.2.0</code></dd>\n",
       "              <dt>Master</dt>\n",
       "                <dd><code>local[*]</code></dd>\n",
       "              <dt>AppName</dt>\n",
       "                <dd><code>PySparkShell</code></dd>\n",
       "            </dl>\n",
       "        </div>\n",
       "        "
      ],
      "text/plain": [
       "<SparkContext master=local[*] appName=PySparkShell>"
      ]
     },
     "execution_count": 1,
     "metadata": {},
     "output_type": "execute_result"
    }
   ],
   "source": [
    "sc"
   ]
  },
  {
   "cell_type": "code",
   "execution_count": 2,
   "id": "be36b9e3",
   "metadata": {},
   "outputs": [],
   "source": [
    "sc.stop()"
   ]
  },
  {
   "cell_type": "markdown",
   "id": "b1292b44",
   "metadata": {},
   "source": [
    "# 라이브러리"
   ]
  },
  {
   "cell_type": "code",
   "execution_count": 5,
   "id": "14ad6508",
   "metadata": {},
   "outputs": [
    {
     "name": "stdout",
     "output_type": "stream",
     "text": [
      "1.23.4\n",
      "1.5.1\n",
      "3.6.2\n",
      "0.12.1\n",
      "1.1.3\n",
      "3.2.0\n"
     ]
    }
   ],
   "source": [
    "import numpy as np\n",
    "import pandas as pd\n",
    "import matplotlib\n",
    "import matplotlib.pyplot as plt\n",
    "import seaborn as sns\n",
    "import sklearn\n",
    "import pyspark\n",
    "\n",
    "print(np.__version__)\n",
    "print(pd.__version__)\n",
    "print(matplotlib.__version__)\n",
    "print(sns.__version__)\n",
    "print(sklearn.__version__)\n",
    "print(pyspark.__version__)"
   ]
  },
  {
   "cell_type": "markdown",
   "id": "19faecf2",
   "metadata": {},
   "source": [
    "## Spark 세션 만들기 (평가 1)\n",
    "\n",
    "- master : \"local[1]\"\n",
    "- appName : my1stSpark"
   ]
  },
  {
   "cell_type": "code",
   "execution_count": 7,
   "id": "1176f649",
   "metadata": {},
   "outputs": [
    {
     "data": {
      "text/html": [
       "\n",
       "            <div>\n",
       "                <p><b>SparkSession - hive</b></p>\n",
       "                \n",
       "        <div>\n",
       "            <p><b>SparkContext</b></p>\n",
       "\n",
       "            <p><a href=\"http://172.22.119.205:4041\">Spark UI</a></p>\n",
       "\n",
       "            <dl>\n",
       "              <dt>Version</dt>\n",
       "                <dd><code>v3.2.0</code></dd>\n",
       "              <dt>Master</dt>\n",
       "                <dd><code>local[1]</code></dd>\n",
       "              <dt>AppName</dt>\n",
       "                <dd><code>my1stSpark</code></dd>\n",
       "            </dl>\n",
       "        </div>\n",
       "        \n",
       "            </div>\n",
       "        "
      ],
      "text/plain": [
       "<pyspark.sql.session.SparkSession at 0x7f9539b0d760>"
      ]
     },
     "execution_count": 7,
     "metadata": {},
     "output_type": "execute_result"
    }
   ],
   "source": [
    "from pyspark.sql import SparkSession\n",
    "spark = SparkSession.builder.master(\"local[1]\").appName(\"my1stSpark\").getOrCreate()\n",
    "spark"
   ]
  },
  {
   "cell_type": "markdown",
   "id": "d26ac82f",
   "metadata": {},
   "source": [
    "## RDD의 작동원리\n",
    "- 데이터 -> Transformation 메서드 활용 (lambda 활용) -> Action 메서드 활용\n",
    "- PairRDD : 값이 Dictionary + 튜플처럼 저장됨"
   ]
  },
  {
   "cell_type": "code",
   "execution_count": 9,
   "id": "62a19524",
   "metadata": {},
   "outputs": [
    {
     "data": {
      "text/plain": [
       "['A', 'B', 'C']"
      ]
     },
     "execution_count": 9,
     "metadata": {},
     "output_type": "execute_result"
    }
   ],
   "source": [
    "temp_dict = {\"name\" : [\"A\", \"B\", \"C\"]}\n",
    "temp_dict['name']"
   ]
  },
  {
   "cell_type": "code",
   "execution_count": 10,
   "id": "2591f079",
   "metadata": {},
   "outputs": [
    {
     "data": {
      "text/plain": [
       "(1, 2, 3, 4)"
      ]
     },
     "execution_count": 10,
     "metadata": {},
     "output_type": "execute_result"
    }
   ],
   "source": [
    "temp_tuple = (1,2,3,4)\n",
    "temp_tuple"
   ]
  },
  {
   "cell_type": "code",
   "execution_count": 11,
   "id": "99910023",
   "metadata": {},
   "outputs": [
    {
     "data": {
      "text/plain": [
       "[('python', 10),\n",
       " ('javascript', 5),\n",
       " ('JAVA', 20),\n",
       " ('python', 10),\n",
       " ('R', 5),\n",
       " ('JAVA', 10)]"
      ]
     },
     "execution_count": 11,
     "metadata": {},
     "output_type": "execute_result"
    }
   ],
   "source": [
    "# 프로그래밍 수강생 조사\n",
    "data = [('python',10),('javascript',5),('JAVA',20), ('python',10),('R',5),('JAVA',10)]\n",
    "data"
   ]
  },
  {
   "cell_type": "markdown",
   "id": "1e0cdc54",
   "metadata": {},
   "source": [
    "## PairRDD 생성"
   ]
  },
  {
   "cell_type": "code",
   "execution_count": 14,
   "id": "d7dee10a",
   "metadata": {},
   "outputs": [
    {
     "name": "stdout",
     "output_type": "stream",
     "text": [
      "ParallelCollectionRDD[1] at readRDDFromFile at PythonRDD.scala:274\n",
      "<class 'pyspark.rdd.RDD'>\n",
      "[('python', 10), ('javascript', 5), ('JAVA', 20), ('python', 10), ('R', 5), ('JAVA', 10)]\n"
     ]
    }
   ],
   "source": [
    "regi_lan = spark.sparkContext.parallelize(data)\n",
    "print(regi_lan)\n",
    "print(type(regi_lan))\n",
    "\n",
    "# Action Method\n",
    "print(regi_lan.collect())\n"
   ]
  },
  {
   "cell_type": "markdown",
   "id": "2ba64594",
   "metadata": {},
   "source": [
    "### PairRDD 메서드 종류\n",
    "- 참조 : https://spark.apache.org/docs/latest/rdd-programming-guide.html#rdd-operations"
   ]
  },
  {
   "cell_type": "markdown",
   "id": "dc372010",
   "metadata": {},
   "source": [
    "### groupbyKey()\n",
    "- https://spark.apache.org/docs/latest/api/python/reference/api/pyspark.RDD.groupByKey.html#pyspark.RDD.groupByKey"
   ]
  },
  {
   "cell_type": "code",
   "execution_count": 18,
   "id": "5a61a47c",
   "metadata": {},
   "outputs": [
    {
     "data": {
      "text/plain": [
       "[('a', 2), ('b', 1)]"
      ]
     },
     "execution_count": 18,
     "metadata": {},
     "output_type": "execute_result"
    }
   ],
   "source": [
    "# ex\n",
    "rdd = spark.sparkContext.parallelize([(\"a\", 1), (\"b\", 1), (\"a\", 1)])\n",
    "\n",
    "sorted(rdd.groupByKey().mapValues(len).collect())\n"
   ]
  },
  {
   "cell_type": "code",
   "execution_count": 19,
   "id": "4b062b2e",
   "metadata": {},
   "outputs": [
    {
     "data": {
      "text/plain": [
       "[('a', [1, 1]), ('b', [1])]"
      ]
     },
     "execution_count": 19,
     "metadata": {},
     "output_type": "execute_result"
    }
   ],
   "source": [
    "sorted(rdd.groupByKey().mapValues(list).collect())"
   ]
  },
  {
   "cell_type": "code",
   "execution_count": 22,
   "id": "e2c0aca5",
   "metadata": {},
   "outputs": [
    {
     "name": "stdout",
     "output_type": "stream",
     "text": [
      "python --> [10, 10]\n",
      "javascript --> [5]\n",
      "JAVA --> [20, 10]\n",
      "R --> [5]\n"
     ]
    }
   ],
   "source": [
    "group_rdd = regi_lan.groupByKey().collect()\n",
    "for keys, values in group_rdd:\n",
    "    print(keys, \"-->\", list(values))"
   ]
  },
  {
   "cell_type": "code",
   "execution_count": 23,
   "id": "068fb86c",
   "metadata": {},
   "outputs": [
    {
     "data": {
      "text/plain": [
       "[('JAVA', 2), ('R', 1), ('javascript', 1), ('python', 2)]"
      ]
     },
     "execution_count": 23,
     "metadata": {},
     "output_type": "execute_result"
    }
   ],
   "source": [
    "sorted(regi_lan.groupByKey().mapValues(len).collect())"
   ]
  },
  {
   "cell_type": "code",
   "execution_count": 24,
   "id": "6214e374",
   "metadata": {},
   "outputs": [
    {
     "data": {
      "text/plain": [
       "[('JAVA', [20, 10]), ('R', [5]), ('javascript', [5]), ('python', [10, 10])]"
      ]
     },
     "execution_count": 24,
     "metadata": {},
     "output_type": "execute_result"
    }
   ],
   "source": [
    "sorted(regi_lan.groupByKey().mapValues(list).collect())"
   ]
  },
  {
   "cell_type": "markdown",
   "id": "4e9bdfd5",
   "metadata": {},
   "source": [
    "### sortByKey\n",
    "- https://spark.apache.org/docs/latest/api/python/reference/api/pyspark.RDD.sortByKey.html?highlight=sortbykey"
   ]
  },
  {
   "cell_type": "code",
   "execution_count": 25,
   "id": "9de839d7",
   "metadata": {},
   "outputs": [
    {
     "data": {
      "text/plain": [
       "('1', 3)"
      ]
     },
     "execution_count": 25,
     "metadata": {},
     "output_type": "execute_result"
    }
   ],
   "source": [
    "# ex\n",
    "tmp = [('a', 1), ('b', 2), ('1', 3), ('d', 4), ('2', 5)]\n",
    "spark.sparkContext.parallelize(tmp).sortByKey().first()"
   ]
  },
  {
   "cell_type": "code",
   "execution_count": 27,
   "id": "396436c7",
   "metadata": {},
   "outputs": [
    {
     "name": "stdout",
     "output_type": "stream",
     "text": [
      "[('JAVA', 20), ('JAVA', 10), ('R', 5), ('javascript', 5), ('python', 10), ('python', 10)]\n"
     ]
    }
   ],
   "source": [
    "print(regi_lan.sortByKey().collect())"
   ]
  },
  {
   "cell_type": "code",
   "execution_count": 28,
   "id": "d56a8db5",
   "metadata": {},
   "outputs": [
    {
     "name": "stdout",
     "output_type": "stream",
     "text": [
      "[('python', 10), ('python', 10), ('javascript', 5), ('R', 5), ('JAVA', 20), ('JAVA', 10)]\n"
     ]
    }
   ],
   "source": [
    "print(regi_lan.sortByKey(ascending=False).collect())"
   ]
  },
  {
   "cell_type": "markdown",
   "id": "66793096",
   "metadata": {},
   "source": [
    "### reduceByKey()\n",
    "- 사칙연산\n",
    "- lambda 활용\n",
    "- https://spark.apache.org/docs/latest/api/python/reference/api/pyspark.RDD.reduceByKey.html?highlight=reducebykey"
   ]
  },
  {
   "cell_type": "code",
   "execution_count": 29,
   "id": "57e8a08b",
   "metadata": {},
   "outputs": [
    {
     "data": {
      "text/plain": [
       "[('python', 20), ('javascript', 5), ('JAVA', 30), ('R', 5)]"
      ]
     },
     "execution_count": 29,
     "metadata": {},
     "output_type": "execute_result"
    }
   ],
   "source": [
    "regi_lan.reduceByKey(lambda x1, x2 : x1 + x2).collect()"
   ]
  },
  {
   "cell_type": "code",
   "execution_count": 31,
   "id": "4a2305df",
   "metadata": {},
   "outputs": [
    {
     "data": {
      "text/plain": [
       "[('python', 0), ('javascript', 5), ('JAVA', 10), ('R', 5)]"
      ]
     },
     "execution_count": 31,
     "metadata": {},
     "output_type": "execute_result"
    }
   ],
   "source": [
    "regi_lan.reduceByKey(lambda x1, x2 : x1 - x2).collect()"
   ]
  },
  {
   "cell_type": "code",
   "execution_count": 32,
   "id": "f007defd",
   "metadata": {},
   "outputs": [
    {
     "data": {
      "text/plain": [
       "[('python', 100), ('javascript', 5), ('JAVA', 200), ('R', 5)]"
      ]
     },
     "execution_count": 32,
     "metadata": {},
     "output_type": "execute_result"
    }
   ],
   "source": [
    "regi_lan.reduceByKey(lambda x1, x2 : x1 * x2).collect()"
   ]
  },
  {
   "cell_type": "code",
   "execution_count": 33,
   "id": "9f8be7ff",
   "metadata": {},
   "outputs": [
    {
     "data": {
      "text/plain": [
       "[('python', 1.0), ('javascript', 5), ('JAVA', 2.0), ('R', 5)]"
      ]
     },
     "execution_count": 33,
     "metadata": {},
     "output_type": "execute_result"
    }
   ],
   "source": [
    "regi_lan.reduceByKey(lambda x1, x2 : x1 / x2).collect()"
   ]
  },
  {
   "cell_type": "code",
   "execution_count": null,
   "id": "27c8b276",
   "metadata": {},
   "outputs": [],
   "source": []
  }
 ],
 "metadata": {
  "kernelspec": {
   "display_name": "Python 3 (ipykernel)",
   "language": "python",
   "name": "python3"
  },
  "language_info": {
   "codemirror_mode": {
    "name": "ipython",
    "version": 3
   },
   "file_extension": ".py",
   "mimetype": "text/x-python",
   "name": "python",
   "nbconvert_exporter": "python",
   "pygments_lexer": "ipython3",
   "version": "3.8.0"
  }
 },
 "nbformat": 4,
 "nbformat_minor": 5
}
